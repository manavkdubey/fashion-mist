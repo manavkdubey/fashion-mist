{
  "nbformat": 4,
  "nbformat_minor": 0,
  "metadata": {
    "colab": {
      "provenance": [],
      "gpuType": "T4",
      "mount_file_id": "1NsiTNif4-bkdyR2U8gmrbmmMu2mqEGfK",
      "authorship_tag": "ABX9TyPLA/s1KXE6plOR9PlKLoSj",
      "include_colab_link": true
    },
    "kernelspec": {
      "name": "python3",
      "display_name": "Python 3"
    },
    "language_info": {
      "name": "python"
    },
    "accelerator": "GPU"
  },
  "cells": [
    {
      "cell_type": "markdown",
      "metadata": {
        "id": "view-in-github",
        "colab_type": "text"
      },
      "source": [
        "<a href=\"https://colab.research.google.com/github/manavkdubey/fashion-mnist/blob/main/fashion_mnist.ipynb\" target=\"_parent\"><img src=\"https://colab.research.google.com/assets/colab-badge.svg\" alt=\"Open In Colab\"/></a>"
      ]
    },
    {
      "cell_type": "markdown",
      "source": [
        "# Fashion MNIST\n",
        "### This is a python notebook to detect fashion clothings from their image\n",
        "### We will use classification to categorize the different images we recive and towards the end export out our model to use it to identify custom images"
      ],
      "metadata": {
        "id": "aDFlhDIRAzXO"
      }
    },
    {
      "cell_type": "code",
      "execution_count": 4,
      "metadata": {
        "id": "nWhmav8fAj8C"
      },
      "outputs": [],
      "source": [
        "import tensorflow as tf\n",
        "import tensorflow.keras as keras\n",
        "import tensorflow_hub as hub\n",
        "import matplotlib.pyplot as plt\n",
        "import numpy as np\n",
        "import gzip\n",
        "from PIL import Image\n",
        "import pandas as pd"
      ]
    },
    {
      "cell_type": "code",
      "source": [
        "tf.__version__"
      ],
      "metadata": {
        "id": "BAnaEtlRBsbR",
        "colab": {
          "base_uri": "https://localhost:8080/",
          "height": 35
        },
        "outputId": "ffae1ab3-a68d-47d8-de41-e55affa66020"
      },
      "execution_count": 5,
      "outputs": [
        {
          "output_type": "execute_result",
          "data": {
            "text/plain": [
              "'2.13.0'"
            ],
            "application/vnd.google.colaboratory.intrinsic+json": {
              "type": "string"
            }
          },
          "metadata": {},
          "execution_count": 5
        }
      ]
    },
    {
      "cell_type": "code",
      "source": [
        "\n",
        "def load_mnist(filename):\n",
        "    with open(filename, 'rb') as f:\n",
        "        # Read the header information\n",
        "        magic = int.from_bytes(f.read(4), byteorder='big')\n",
        "        num_images = int.from_bytes(f.read(4), byteorder='big')\n",
        "        num_rows = int.from_bytes(f.read(4), byteorder='big')\n",
        "        num_cols = int.from_bytes(f.read(4), byteorder='big')\n",
        "\n",
        "        # Read the image data\n",
        "        data = np.fromfile(f, dtype=np.uint8)\n",
        "        data = data.reshape(num_images, num_rows, num_cols)\n",
        "\n",
        "    return data"
      ],
      "metadata": {
        "id": "smIQjTnbKL-o"
      },
      "execution_count": 6,
      "outputs": []
    },
    {
      "cell_type": "code",
      "source": [
        "tempx= load_mnist(\"/content/drive/MyDrive/data/fashion/train-images-idx3-ubyte\")"
      ],
      "metadata": {
        "id": "eKMembV-RITd"
      },
      "execution_count": 7,
      "outputs": []
    },
    {
      "cell_type": "code",
      "source": [
        "plt.imshow(tempx[1])"
      ],
      "metadata": {
        "colab": {
          "base_uri": "https://localhost:8080/",
          "height": 447
        },
        "id": "3yQWI-EITL0N",
        "outputId": "9c6cf663-1587-4cd2-8d5f-2f869c712994"
      },
      "execution_count": 8,
      "outputs": [
        {
          "output_type": "execute_result",
          "data": {
            "text/plain": [
              "<matplotlib.image.AxesImage at 0x78f83bd47c40>"
            ]
          },
          "metadata": {},
          "execution_count": 8
        },
        {
          "output_type": "display_data",
          "data": {
            "text/plain": [
              "<Figure size 640x480 with 1 Axes>"
            ],
            "image/png": "[encoded data removed]"
          },
          "metadata": {}
        }
      ]
    },
    {
      "cell_type": "code",
      "source": [
        "def load_mnist_labels(filename):\n",
        "    with open(filename, 'rb') as f:\n",
        "        # Read the header information\n",
        "        magic = int.from_bytes(f.read(4), byteorder='big')\n",
        "        num_labels = int.from_bytes(f.read(4), byteorder='big')\n",
        "\n",
        "        # Read the label data\n",
        "        label_data = np.fromfile(f, dtype=np.uint8)\n",
        "\n",
        "    return label_data"
      ],
      "metadata": {
        "id": "QAQCtIbmT4dy"
      },
      "execution_count": 9,
      "outputs": []
    },
    {
      "cell_type": "code",
      "source": [
        "labels_index=load_mnist_labels(\"/content/drive/MyDrive/data/fashion/train-labels-idx1-ubyte\")\n",
        "df=pd.read_csv(\"/content/drive/MyDrive/data/fashion/fashion-mnist_train.csv\")"
      ],
      "metadata": {
        "id": "oNzi0ybPTdve"
      },
      "execution_count": 10,
      "outputs": []
    },
    {
      "cell_type": "code",
      "source": [
        "unique_labels_list = ['T-shirt/top', 'Trouser', 'Pullover', 'Dress', 'Coat',\n",
        "               'Sandal', 'Shirt', 'Sneaker', 'Bag', 'Ankle boot']\n",
        "unique_labels=np.array(unique_labels_list)\n",
        "labels_index"
      ],
      "metadata": {
        "colab": {
          "base_uri": "https://localhost:8080/"
        },
        "id": "gLmOvsMFJYsk",
        "outputId": "c8d5006f-5df4-4bec-fac0-5094b5b4399a"
      },
      "execution_count": 11,
      "outputs": [
        {
          "output_type": "execute_result",
          "data": {
            "text/plain": [
              "array([9, 0, 0, ..., 3, 0, 5], dtype=uint8)"
            ]
          },
          "metadata": {},
          "execution_count": 11
        }
      ]
    },
    {
      "cell_type": "code",
      "source": [
        "labels=[]\n",
        "for label in labels_index:\n",
        "  labels.append(unique_labels[labels_index])"
      ],
      "metadata": {
        "id": "7pOpnh-7Jemt"
      },
      "execution_count": null,
      "outputs": []
    },
    {
      "cell_type": "code",
      "source": [
        "np.argmax(labels[1])"
      ],
      "metadata": {
        "id": "f5QiO5KrT9f2"
      },
      "execution_count": null,
      "outputs": []
    },
    {
      "cell_type": "code",
      "source": [
        "tempx_test=load_mnist(\"/content/drive/MyDrive/data/fashion/t10k-images-idx3-ubyte\")"
      ],
      "metadata": {
        "id": "gLHzVVOfUEGY"
      },
      "execution_count": 41,
      "outputs": []
    },
    {
      "cell_type": "code",
      "source": [
        "plt.imshow(tempx[0])"
      ],
      "metadata": {
        "colab": {
          "base_uri": "https://localhost:8080/",
          "height": 447
        },
        "id": "qwZQgbdGUZgO",
        "outputId": "449868f4-db6c-4c30-a69e-62f86319d0b4"
      },
      "execution_count": 42,
      "outputs": [
        {
          "output_type": "execute_result",
          "data": {
            "text/plain": [
              "<matplotlib.image.AxesImage at 0x7b8f3460b010>"
            ]
          },
          "metadata": {},
          "execution_count": 42
        },
        {
          "output_type": "display_data",
          "data": {
            "text/plain": [
              "<Figure size 640x480 with 1 Axes>"
            ],
            "image/png": "[encoded data removed]"
          },
          "metadata": {}
        }
      ]
    },
    {
      "cell_type": "code",
      "source": [
        "labels_test=load_mnist_labels(\"/content/drive/MyDrive/data/fashion/t10k-labels-idx1-ubyte\")\n",
        "labels_test[0]\n"
      ],
      "metadata": {
        "colab": {
          "base_uri": "https://localhost:8080/"
        },
        "id": "OcsF8NEZUc5t",
        "outputId": "a31157c0-1136-4798-fe1d-eedcd80c9d60"
      },
      "execution_count": 43,
      "outputs": [
        {
          "output_type": "execute_result",
          "data": {
            "text/plain": [
              "9"
            ]
          },
          "metadata": {},
          "execution_count": 43
        }
      ]
    },
    {
      "cell_type": "code",
      "source": [],
      "metadata": {
        "id": "zo_gWta9Uo2D"
      },
      "execution_count": 44,
      "outputs": []
    },
    {
      "cell_type": "code",
      "source": [
        "x_color = np.zeros((tempx.shape[0], tempx.shape[1], tempx.shape[2], 1), dtype=np.uint8)\n",
        "x_color[..., 0] = tempx\n",
        "x= x_color\n",
        "x.shape\n"
      ],
      "metadata": {
        "id": "x4_YPaQIVBuE",
        "colab": {
          "base_uri": "https://localhost:8080/"
        },
        "outputId": "7619ffbc-58b7-49a3-a088-629bc771a42d"
      },
      "execution_count": 70,
      "outputs": [
        {
          "output_type": "stream",
          "name": "stdout",
          "text": [
            "9\n"
          ]
        }
      ]
    },
    {
      "cell_type": "code",
      "source": [],
      "metadata": {
        "id": "oI4SKYImVG_E",
        "colab": {
          "base_uri": "https://localhost:8080/"
        },
        "outputId": "67b512af-3778-404d-e402-d6d05fa077e7"
      },
      "execution_count": 46,
      "outputs": [
        {
          "output_type": "execute_result",
          "data": {
            "text/plain": [
              "array([9, 0, 0, ..., 3, 0, 5], dtype=uint8)"
            ]
          },
          "metadata": {},
          "execution_count": 46
        }
      ]
    },
    {
      "cell_type": "code",
      "source": [
        "boolean_labels=[label== unique_labels for label in labels]\n",
        "y=boolean_labels\n",
        "y[0]"
      ],
      "metadata": {
        "colab": {
          "base_uri": "https://localhost:8080/"
        },
        "id": "id4qomZn9Jed",
        "outputId": "d1c350fb-78c3-464c-f421-61a46a8b2ecc"
      },
      "execution_count": 66,
      "outputs": [
        {
          "output_type": "stream",
          "name": "stderr",
          "text": [
            "<ipython-input-66-8141f1e1cd23>:1: FutureWarning: elementwise comparison failed; returning scalar instead, but in the future will perform elementwise comparison\n",
            "  boolean_labels=[label== unique_labels for label in labels]\n"
          ]
        },
        {
          "output_type": "execute_result",
          "data": {
            "text/plain": [
              "False"
            ]
          },
          "metadata": {},
          "execution_count": 66
        }
      ]
    },
    {
      "cell_type": "code",
      "source": [
        "from sklearn.model_selection import train_test_split\n",
        "\n",
        "np.random.seed(42)\n",
        "x_train,x_val,y_train,y_val=train_test_split(x,y,test_size=0.2,random_state=42)\n",
        "\n",
        "len(x_train),len(x_val),len(y_train),len(y_val)"
      ],
      "metadata": {
        "colab": {
          "base_uri": "https://localhost:8080/"
        },
        "id": "0FOlc8hoV9i8",
        "outputId": "8ead41b5-c3b1-4a70-9554-74be4ae4ee14"
      },
      "execution_count": 48,
      "outputs": [
        {
          "output_type": "execute_result",
          "data": {
            "text/plain": [
              "(48000, 12000, 48000, 12000)"
            ]
          },
          "metadata": {},
          "execution_count": 48
        }
      ]
    },
    {
      "cell_type": "code",
      "source": [
        "plt.imshow(x[100])"
      ],
      "metadata": {
        "colab": {
          "base_uri": "https://localhost:8080/",
          "height": 447
        },
        "id": "cPbJNr6xXYhc",
        "outputId": "b666c05a-91c7-4561-a7f8-303c150e4c81"
      },
      "execution_count": 49,
      "outputs": [
        {
          "output_type": "execute_result",
          "data": {
            "text/plain": [
              "<matplotlib.image.AxesImage at 0x7b8f3227abc0>"
            ]
          },
          "metadata": {},
          "execution_count": 49
        },
        {
          "output_type": "display_data",
          "data": {
            "text/plain": [
              "<Figure size 640x480 with 1 Axes>"
            ],
            "image/png": "[encoded data removed]"
          },
          "metadata": {}
        }
      ]
    },
    {
      "cell_type": "code",
      "source": [
        "\n",
        "def process_image(image):\n",
        "  return image"
      ],
      "metadata": {
        "id": "yAUNaRGyBFUf"
      },
      "execution_count": 50,
      "outputs": []
    },
    {
      "cell_type": "code",
      "source": [
        "def get_image_label(image,label):\n",
        "  return image,label\n",
        "\n",
        ""
      ],
      "metadata": {
        "id": "YWhPrKc9xHkM"
      },
      "execution_count": 51,
      "outputs": []
    },
    {
      "cell_type": "code",
      "source": [
        "y_train[0]"
      ],
      "metadata": {
        "id": "G5e7CE1oxcjX",
        "colab": {
          "base_uri": "https://localhost:8080/"
        },
        "outputId": "2a2b98ec-4071-4af3-f077-33c7c40c3e95"
      },
      "execution_count": 65,
      "outputs": [
        {
          "output_type": "execute_result",
          "data": {
            "text/plain": [
              "False"
            ]
          },
          "metadata": {},
          "execution_count": 65
        }
      ]
    },
    {
      "cell_type": "code",
      "source": [
        "BATCH_SIZE=32\n",
        "\n",
        "def create_data_batches(x, y=None, batch_size=BATCH_SIZE, valid_data=False, test_data=False):\n",
        "  if test_data:\n",
        "    print(\"Creating test data batches...\")\n",
        "    data=tf.data.Dataset.from_tensor_slices((tf.constant(x)))\n",
        "    data_batch= data.batch(BATCH_SIZE)\n",
        "    return data_batch\n",
        "  elif valid_data:\n",
        "    print(\"Creating validation data batches...\")\n",
        "    data=tf.data.Dataset.from_tensor_slices((tf.constant(x),\n",
        "                                             tf.constant(y)))\n",
        "    data_batch= data.map(get_image_label).batch(BATCH_SIZE)\n",
        "    return data_batch\n",
        "  else:\n",
        "    print(\"Creating training data batches...\")\n",
        "    data=tf.data.Dataset.from_tensor_slices((tf.constant(x),\n",
        "                                             tf.constant(y)))\n",
        "    data=data.shuffle(buffer_size=len(x))\n",
        "    data_batch= data.map(get_image_label).batch(BATCH_SIZE)\n",
        "    return data_batch"
      ],
      "metadata": {
        "id": "ae_W9gKXXd6k"
      },
      "execution_count": 54,
      "outputs": []
    },
    {
      "cell_type": "code",
      "source": [
        "train_data=create_data_batches(x_train,y_train)\n",
        "val_data=create_data_batches(x_val,y_val,valid_data=True)\n"
      ],
      "metadata": {
        "colab": {
          "base_uri": "https://localhost:8080/"
        },
        "id": "xZnJa5cYYKS2",
        "outputId": "9b2d9209-abf7-48b0-f7cb-d55fcf020d49"
      },
      "execution_count": 55,
      "outputs": [
        {
          "output_type": "stream",
          "name": "stdout",
          "text": [
            "Creating training data batches...\n",
            "Creating validation data batches...\n"
          ]
        }
      ]
    },
    {
      "cell_type": "code",
      "source": [
        "train_data.element_spec,val_data.element_spec"
      ],
      "metadata": {
        "colab": {
          "base_uri": "https://localhost:8080/"
        },
        "id": "LzoVfSFNIKeh",
        "outputId": "01208ba4-fd92-4a5b-e760-c712cbf77260"
      },
      "execution_count": 62,
      "outputs": [
        {
          "output_type": "execute_result",
          "data": {
            "text/plain": [
              "((TensorSpec(shape=(None, 28, 28, 1), dtype=tf.uint8, name=None),\n",
              "  TensorSpec(shape=(None,), dtype=tf.bool, name=None)),\n",
              " (TensorSpec(shape=(None, 28, 28, 1), dtype=tf.uint8, name=None),\n",
              "  TensorSpec(shape=(None,), dtype=tf.bool, name=None)))"
            ]
          },
          "metadata": {},
          "execution_count": 62
        }
      ]
    },
    {
      "cell_type": "code",
      "source": [
        "import matplotlib.pyplot as plt\n",
        "def show_25_image(images,labels):\n",
        "  plt.figure(figsize=(10,10))\n",
        "  for i in range(25):\n",
        "    ax=plt.subplot(5,5,i+1)\n",
        "    plt.imshow(images[i])\n",
        "    plt.title(unique_labels[labels[i].argmax()])\n",
        "    plt.axis(\"off\")"
      ],
      "metadata": {
        "id": "PPpGPV0pY0Bh"
      },
      "execution_count": 56,
      "outputs": []
    },
    {
      "cell_type": "code",
      "source": [
        "train_images,train_labels =next(train_data.as_numpy_iterator())\n",
        "len(train_images),len(train_labels)\n"
      ],
      "metadata": {
        "colab": {
          "base_uri": "https://localhost:8080/"
        },
        "id": "JLXul6UlZMM0",
        "outputId": "11479fc6-b4bb-4a28-a34b-38fdc42803eb"
      },
      "execution_count": 57,
      "outputs": [
        {
          "output_type": "execute_result",
          "data": {
            "text/plain": [
              "(32, 32)"
            ]
          },
          "metadata": {},
          "execution_count": 57
        }
      ]
    },
    {
      "cell_type": "code",
      "source": [
        "train_labels[0]"
      ],
      "metadata": {
        "colab": {
          "base_uri": "https://localhost:8080/"
        },
        "id": "-R7pGLvWZT0c",
        "outputId": "aa0d3d98-8069-45ee-a3a7-98302328ed5b"
      },
      "execution_count": 61,
      "outputs": [
        {
          "output_type": "execute_result",
          "data": {
            "text/plain": [
              "False"
            ]
          },
          "metadata": {},
          "execution_count": 61
        }
      ]
    },
    {
      "cell_type": "code",
      "source": [
        "show_25_image(train_images,train_labels)"
      ],
      "metadata": {
        "colab": {
          "base_uri": "https://localhost:8080/",
          "height": 829
        },
        "id": "O9vgz_Z2ZABl",
        "outputId": "e94575f4-8cd0-4216-ef91-9f032fee09ff"
      },
      "execution_count": 59,
      "outputs": [
        {
          "output_type": "display_data",
          "data": {
            "text/plain": [
              "<Figure size 1000x1000 with 25 Axes>"
            ],
            "image/png": "[encoded data removed]"
          },
          "metadata": {}
        }
      ]
    },
    {
      "cell_type": "code",
      "source": [
        "val_images,val_labels =next(val_data.as_numpy_iterator())\n",
        "len(val_images),len(val_labels)\n",
        "show_25_image(val_images,val_labels)"
      ],
      "metadata": {
        "colab": {
          "base_uri": "https://localhost:8080/",
          "height": 506
        },
        "id": "bpoZfvXqZNN5",
        "outputId": "e556fb8e-f509-4965-f699-a5ef04422cf2"
      },
      "execution_count": 293,
      "outputs": [
        {
          "output_type": "error",
          "ename": "IndexError",
          "evalue": "ignored",
          "traceback": [
            "\u001b[0;31m---------------------------------------------------------------------------\u001b[0m",
            "\u001b[0;31mIndexError\u001b[0m                                Traceback (most recent call last)",
            "\u001b[0;32m<ipython-input-293-95fde63d065f>\u001b[0m in \u001b[0;36m<cell line: 3>\u001b[0;34m()\u001b[0m\n\u001b[1;32m      1\u001b[0m \u001b[0mval_images\u001b[0m\u001b[0;34m,\u001b[0m\u001b[0mval_labels\u001b[0m \u001b[0;34m=\u001b[0m\u001b[0mnext\u001b[0m\u001b[0;34m(\u001b[0m\u001b[0mval_data\u001b[0m\u001b[0;34m.\u001b[0m\u001b[0mas_numpy_iterator\u001b[0m\u001b[0;34m(\u001b[0m\u001b[0;34m)\u001b[0m\u001b[0;34m)\u001b[0m\u001b[0;34m\u001b[0m\u001b[0;34m\u001b[0m\u001b[0m\n\u001b[1;32m      2\u001b[0m \u001b[0mlen\u001b[0m\u001b[0;34m(\u001b[0m\u001b[0mval_images\u001b[0m\u001b[0;34m)\u001b[0m\u001b[0;34m,\u001b[0m\u001b[0mlen\u001b[0m\u001b[0;34m(\u001b[0m\u001b[0mval_labels\u001b[0m\u001b[0;34m)\u001b[0m\u001b[0;34m\u001b[0m\u001b[0;34m\u001b[0m\u001b[0m\n\u001b[0;32m----> 3\u001b[0;31m \u001b[0mshow_25_image\u001b[0m\u001b[0;34m(\u001b[0m\u001b[0mval_images\u001b[0m\u001b[0;34m,\u001b[0m\u001b[0mval_labels\u001b[0m\u001b[0;34m)\u001b[0m\u001b[0;34m\u001b[0m\u001b[0;34m\u001b[0m\u001b[0m\n\u001b[0m",
            "\u001b[0;32m<ipython-input-289-daf6723f467b>\u001b[0m in \u001b[0;36mshow_25_image\u001b[0;34m(images, labels)\u001b[0m\n\u001b[1;32m      5\u001b[0m     \u001b[0max\u001b[0m\u001b[0;34m=\u001b[0m\u001b[0mplt\u001b[0m\u001b[0;34m.\u001b[0m\u001b[0msubplot\u001b[0m\u001b[0;34m(\u001b[0m\u001b[0;36m5\u001b[0m\u001b[0;34m,\u001b[0m\u001b[0;36m5\u001b[0m\u001b[0;34m,\u001b[0m\u001b[0mi\u001b[0m\u001b[0;34m+\u001b[0m\u001b[0;36m1\u001b[0m\u001b[0;34m)\u001b[0m\u001b[0;34m\u001b[0m\u001b[0;34m\u001b[0m\u001b[0m\n\u001b[1;32m      6\u001b[0m     \u001b[0mplt\u001b[0m\u001b[0;34m.\u001b[0m\u001b[0mimshow\u001b[0m\u001b[0;34m(\u001b[0m\u001b[0mimages\u001b[0m\u001b[0;34m[\u001b[0m\u001b[0mi\u001b[0m\u001b[0;34m]\u001b[0m\u001b[0;34m)\u001b[0m\u001b[0;34m\u001b[0m\u001b[0;34m\u001b[0m\u001b[0m\n\u001b[0;32m----> 7\u001b[0;31m     \u001b[0mplt\u001b[0m\u001b[0;34m.\u001b[0m\u001b[0mtitle\u001b[0m\u001b[0;34m(\u001b[0m\u001b[0munique_labels\u001b[0m\u001b[0;34m[\u001b[0m\u001b[0mlabels\u001b[0m\u001b[0;34m[\u001b[0m\u001b[0mi\u001b[0m\u001b[0;34m]\u001b[0m\u001b[0;34m]\u001b[0m\u001b[0;34m)\u001b[0m\u001b[0;34m\u001b[0m\u001b[0;34m\u001b[0m\u001b[0m\n\u001b[0m\u001b[1;32m      8\u001b[0m     \u001b[0mplt\u001b[0m\u001b[0;34m.\u001b[0m\u001b[0maxis\u001b[0m\u001b[0;34m(\u001b[0m\u001b[0;34m\"off\"\u001b[0m\u001b[0;34m)\u001b[0m\u001b[0;34m\u001b[0m\u001b[0;34m\u001b[0m\u001b[0m\n",
            "\u001b[0;31mIndexError\u001b[0m: only integers, slices (`:`), ellipsis (`...`), numpy.newaxis (`None`) and integer or boolean arrays are valid indices"
          ]
        },
        {
          "output_type": "display_data",
          "data": {
            "text/plain": [
              "<Figure size 1000x1000 with 1 Axes>"
            ],
            "image/png": "[encoded data removed]"
          },
          "metadata": {}
        }
      ]
    },
    {
      "cell_type": "code",
      "source": [
        "INPUT_SHAPE = [None,28,28,3]\n",
        "\n",
        "OUTPUT_SHAPE=1\n",
        "\n",
        "MODEL_URL=\"https://tfhub.dev/google/imagenet/mobilenet_v2_130_224/classification/5\""
      ],
      "metadata": {
        "id": "0fDovp2Gl2JI"
      },
      "execution_count": 207,
      "outputs": []
    },
    {
      "cell_type": "code",
      "source": [
        "def create_model(input_shape=INPUT_SHAPE,output_shape=OUTPUT_SHAPE,model_url=MODEL_URL):\n",
        "  print(\"Building model with: \",MODEL_URL)\n",
        "\n",
        "  model=tf.keras.Sequential([\n",
        "      tf.keras.layers.Resizing(224, 224, interpolation='bilinear', input_shape=input_shape[1:]),\n",
        "      hub.KerasLayer(MODEL_URL),\n",
        "      tf.keras.layers.Dense(units=OUTPUT_SHAPE,activation=\"softmax\")\n",
        "  ])\n",
        "  model.compile(\n",
        "      loss=tf.keras.losses.CategoricalCrossentropy(),\n",
        "      optimizer=tf.keras.optimizers.Adam(),\n",
        "      metrics=[\"accuracy\"]\n",
        "  )\n",
        "  model.build(INPUT_SHAPE)\n",
        "  return model"
      ],
      "metadata": {
        "id": "Z1z8hH9-pyWH"
      },
      "execution_count": 208,
      "outputs": []
    },
    {
      "cell_type": "code",
      "source": [
        "model=create_model()\n",
        "model.summary()"
      ],
      "metadata": {
        "colab": {
          "base_uri": "https://localhost:8080/"
        },
        "id": "O5mYvwmtqCsC",
        "outputId": "cca2d1b2-91c9-420e-8745-c1c5665ea49c"
      },
      "execution_count": 209,
      "outputs": [
        {
          "output_type": "stream",
          "name": "stdout",
          "text": [
            "Building model with:  https://tfhub.dev/google/imagenet/mobilenet_v2_130_224/classification/5\n",
            "Model: \"sequential_36\"\n",
            "_________________________________________________________________\n",
            " Layer (type)                Output Shape              Param #   \n",
            "=================================================================\n",
            " resizing_4 (Resizing)       (None, 224, 224, 3)       0         \n",
            "                                                                 \n",
            " keras_layer_28 (KerasLayer  (None, 1001)              5432713   \n",
            " )                                                               \n",
            "                                                                 \n",
            " dense_43 (Dense)            (None, 1)                 1002      \n",
            "                                                                 \n",
            "=================================================================\n",
            "Total params: 5433715 (20.73 MB)\n",
            "Trainable params: 1002 (3.91 KB)\n",
            "Non-trainable params: 5432713 (20.72 MB)\n",
            "_________________________________________________________________\n"
          ]
        }
      ]
    },
    {
      "cell_type": "code",
      "source": [
        "%load_ext tensorboard"
      ],
      "metadata": {
        "colab": {
          "base_uri": "https://localhost:8080/"
        },
        "id": "PIIqn8I1uYSa",
        "outputId": "9a686ad0-084a-43b0-8984-c5268ef330f3"
      },
      "execution_count": 210,
      "outputs": [
        {
          "output_type": "stream",
          "name": "stdout",
          "text": [
            "The tensorboard extension is already loaded. To reload it, use:\n",
            "  %reload_ext tensorboard\n"
          ]
        }
      ]
    },
    {
      "cell_type": "code",
      "source": [
        "import datetime\n",
        "import os\n",
        "def create_tensorboard_callback():\n",
        "  logdir= os.path.join(\"/content/drive/MyDrive/colab/logs\",\n",
        "                       datetime.datetime.now().strftime(\"%Y%m%d-%H%M%S\"))\n",
        "  return tf.keras.callbacks.TensorBoard(logdir)"
      ],
      "metadata": {
        "id": "fo4xNbTUujL7"
      },
      "execution_count": 211,
      "outputs": []
    },
    {
      "cell_type": "code",
      "source": [
        "early_stopping=tf.keras.callbacks.EarlyStopping(monitor=\"val_accuracy\",\n",
        "                                                patience=3)"
      ],
      "metadata": {
        "id": "LaFfp4nzukm8"
      },
      "execution_count": 212,
      "outputs": []
    },
    {
      "cell_type": "markdown",
      "source": [
        "## Training our model"
      ],
      "metadata": {
        "id": "CR3E8wSLt9Xk"
      }
    },
    {
      "cell_type": "code",
      "source": [
        "NUM_EPOCHS= 1 #@param{type:\"slider\",min:1,max:100,step:10}"
      ],
      "metadata": {
        "id": "3VDqM-uFupW_"
      },
      "execution_count": 218,
      "outputs": []
    },
    {
      "cell_type": "code",
      "source": [
        "def train_model():\n",
        "  model = create_model()\n",
        "\n",
        "  tensorboard=create_tensorboard_callback()\n",
        "\n",
        "  model.fit(x=train_data,\n",
        "            epochs=NUM_EPOCHS,\n",
        "            validation_data=val_data,\n",
        "            validation_freq=1,\n",
        "            callbacks=[tensorboard,early_stopping])\n",
        "  return model"
      ],
      "metadata": {
        "id": "zkMBdu3jt9Bu"
      },
      "execution_count": 219,
      "outputs": []
    },
    {
      "cell_type": "code",
      "source": [
        "model = train_model()"
      ],
      "metadata": {
        "id": "BcB-5km2uu_O",
        "colab": {
          "base_uri": "https://localhost:8080/"
        },
        "outputId": "4d430537-443d-4c28-ab45-d28a0e9d7302"
      },
      "execution_count": 220,
      "outputs": [
        {
          "output_type": "stream",
          "name": "stdout",
          "text": [
            "Building model with:  https://tfhub.dev/google/imagenet/mobilenet_v2_130_224/classification/5\n",
            "1500/1500 [==============================] - 95s 60ms/step - loss: 0.0000e+00 - accuracy: 0.0996 - val_loss: 0.0000e+00 - val_accuracy: 0.1016\n"
          ]
        }
      ]
    },
    {
      "cell_type": "code",
      "source": [],
      "metadata": {
        "id": "7oDRtxEI6RXs"
      },
      "execution_count": null,
      "outputs": []
    }
  ]
}